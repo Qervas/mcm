{
 "cells": [
  {
   "cell_type": "code",
   "execution_count": 72,
   "metadata": {},
   "outputs": [],
   "source": [
    "import pandas as pd\n",
    "import numpy as np\n",
    "import holidays\n",
    "\n",
    "\n",
    "# Set the start and end dates for the date range\n",
    "start_date = '2022-01-01'\n",
    "end_date = '2022-12-31'\n",
    "\n",
    "# Create a date range from the start to the end date\n",
    "date_range = pd.date_range(start_date, end_date, freq='D')\n",
    "\n",
    "# Create a boolean array that indicates whether each date is a weekend or not\n",
    "is_weekend = np.logical_or(date_range.weekday == 5, date_range.weekday == 6)\n",
    "\n",
    "# Create a list of US public holidays for the date range\n",
    "us_holidays = holidays.US(years=date_range.year).keys()\n",
    "\n",
    "# Create a boolean array that indicates whether each date is a holiday or not\n",
    "is_holiday = pd.Series(date_range).dt.date.astype('datetime64').isin(us_holidays)\n",
    "\n",
    "# Combine the weekend and holiday boolean arrays into a single array\n",
    "is_off_day = np.logical_or(is_weekend, is_holiday)\n",
    "\n",
    "# Filter the date range to only include non-working days\n",
    "off_days = date_range[is_off_day]\n",
    "\n",
    "# Print the resulting set of off days\n",
    "\n",
    "\n"
   ]
  },
  {
   "cell_type": "code",
   "execution_count": 77,
   "metadata": {},
   "outputs": [],
   "source": [
    "import openpyxl\n",
    "\n",
    "wb = openpyxl.load_workbook('wordle_data.xlsx')\n",
    "sh = wb['Sheet1']\n",
    "ws = wb.active\n",
    "ws['N2'] = 'is_holiday'\n",
    "date_list = []\n",
    "\n",
    "for row in range(3, sh.max_row + 1):\n",
    "    # Each row in the spreadsheet has data for one date\n",
    "\tdate = sh.cell(row=row, column=2).value\n",
    "\t#print(type(date))\n",
    "\t# if the date is none, then break the loop\n",
    "\tif date is None:\n",
    "\t\tbreak\n",
    "\tif date in off_days:\n",
    "\t\tws.cell(row = row, column=14, value='1')\n",
    "\telse:\n",
    "\t\tws.cell(row = row, column=14, value='0')\n",
    "\n",
    "wb.save('add_holiday.xlsx')\n",
    "    "
   ]
  }
 ],
 "metadata": {
  "kernelspec": {
   "display_name": "Python 3",
   "language": "python",
   "name": "python3"
  },
  "language_info": {
   "codemirror_mode": {
    "name": "ipython",
    "version": 3
   },
   "file_extension": ".py",
   "mimetype": "text/x-python",
   "name": "python",
   "nbconvert_exporter": "python",
   "pygments_lexer": "ipython3",
   "version": "3.11.2"
  },
  "orig_nbformat": 4,
  "vscode": {
   "interpreter": {
    "hash": "2b594d7bb551ae9f1ba752759cf74fdb39b5f1fa1a82c4e669cfd20c491e4573"
   }
  }
 },
 "nbformat": 4,
 "nbformat_minor": 2
}

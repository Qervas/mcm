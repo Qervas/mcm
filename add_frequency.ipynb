{
 "cells": [
  {
   "cell_type": "code",
   "execution_count": 26,
   "metadata": {},
   "outputs": [],
   "source": [
    "import openpyxl\n",
    "import pyphen\n",
    "wb = openpyxl.load_workbook('add_holiday.xlsx')\n",
    "sh = wb['Sheet1']\n",
    "ws = wb.active\n",
    "ws['O2'] = 'the number of morphemes'\n",
    "date_list = []\n",
    "dic = pyphen.Pyphen(lang='en_US')\n",
    "for row in range(3, sh.max_row + 1):\n",
    "    # Each row in the spreadsheet has data for one date\n",
    "    word = sh.cell(row=row, column=4).value\n",
    "\t#print(type(date))\n",
    "\t# if the date is none, then break the loop\n",
    "    if word is None:\n",
    "        break\n",
    "    morphemes = dic.inserted(word).split('-')\n",
    "    \n",
    "    ws.cell(row=row, column=15, value=str(len(morphemes)))\n",
    "    \n",
    "\t\n",
    "\n",
    "wb.save('add_morphmes.xlsx')"
   ]
  },
  {
   "cell_type": "code",
   "execution_count": 12,
   "metadata": {},
   "outputs": [],
   "source": [
    "import pandas as pd\n",
    "import openpyxl\n",
    "\n",
    "wb = openpyxl.Workbook()\n",
    "ws = wb.active\n",
    "arr = [0]*26\n",
    "with open('possible_words.txt', 'r') as f:\n",
    "    for word in f:\n",
    "        word = word.strip()\n",
    "        for j in range(5):\n",
    "        #print(word[j])\n",
    "            arr[ord(word[j].lower()) - ord('a')] += 1\n",
    "arr_sum = sum(arr)\n",
    "for i in range(len(arr)):\n",
    "    ws.append([chr(i + ord('a')), arr[i], float(arr[i])/float(arr_sum)])\n",
    "wb.save('character_file.xlsx')\n"
   ]
  },
  {
   "cell_type": "code",
   "execution_count": 24,
   "metadata": {},
   "outputs": [
    {
     "ename": "TypeError",
     "evalue": "cannot unpack non-iterable int object",
     "output_type": "error",
     "traceback": [
      "\u001b[1;31m---------------------------------------------------------------------------\u001b[0m",
      "\u001b[1;31mTypeError\u001b[0m                                 Traceback (most recent call last)",
      "Cell \u001b[1;32mIn[24], line 20\u001b[0m\n\u001b[0;32m     17\u001b[0m         \u001b[39mfor\u001b[39;00m m_part \u001b[39min\u001b[39;00m morphemes:\n\u001b[0;32m     18\u001b[0m             dic[m_part] \u001b[39m+\u001b[39m\u001b[39m=\u001b[39m \u001b[39m1\u001b[39m\n\u001b[1;32m---> 20\u001b[0m key, value \u001b[39m=\u001b[39m dic[\u001b[39m0\u001b[39m]  \n",
      "\u001b[1;31mTypeError\u001b[0m: cannot unpack non-iterable int object"
     ]
    }
   ],
   "source": [
    "import openpyxl\n",
    "import pyphen\n",
    "wb = openpyxl.Workbook()\n",
    "from collections import defaultdict \n",
    "word_dic = pyphen.Pyphen(lang='en_US')\n",
    "st1 = wb.active\n",
    "st1.title = \"Sheet 1\"\n",
    "\n",
    "st2 = wb.create_sheet(title=\"Sheet 2\")\n",
    "dic = defaultdict(int)\n",
    "sum = 0\n",
    "with open('possible_words.txt', 'r') as f:\n",
    "    for word in f:\n",
    "        index = word.index\n",
    "        word = word.strip()\n",
    "        morphemes = word_dic.inserted(word).split('-')\n",
    "        st1.append([word, len(morphemes)])\n",
    "        for m_part in morphemes:\n",
    "            dic[m_part] += 1\n",
    "            sum += 1\n",
    "for key, value in dic:\n",
    "    st2.append([key, value, float(value)/float()]) \n",
    "        \n",
    "\n",
    "\n",
    "            \n"
   ]
  }
 ],
 "metadata": {
  "kernelspec": {
   "display_name": "Python 3",
   "language": "python",
   "name": "python3"
  },
  "language_info": {
   "codemirror_mode": {
    "name": "ipython",
    "version": 3
   },
   "file_extension": ".py",
   "mimetype": "text/x-python",
   "name": "python",
   "nbconvert_exporter": "python",
   "pygments_lexer": "ipython3",
   "version": "3.11.2"
  },
  "orig_nbformat": 4,
  "vscode": {
   "interpreter": {
    "hash": "2b594d7bb551ae9f1ba752759cf74fdb39b5f1fa1a82c4e669cfd20c491e4573"
   }
  }
 },
 "nbformat": 4,
 "nbformat_minor": 2
}

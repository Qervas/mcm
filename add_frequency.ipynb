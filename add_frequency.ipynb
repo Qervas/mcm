{
 "cells": [
  {
   "cell_type": "code",
   "execution_count": 24,
   "metadata": {},
   "outputs": [],
   "source": [
    "import openpyxl\n",
    "import pyphen\n",
    "wb = openpyxl.load_workbook('add_holiday.xlsx')\n",
    "sh = wb['Sheet1']\n",
    "ws = wb.active\n",
    "ws['O2'] = 'the number of morphemes'\n",
    "date_list = []\n",
    "dic = pyphen.Pyphen(lang='en_US')\n",
    "for row in range(3, sh.max_row + 1):\n",
    "    # Each row in the spreadsheet has data for one date\n",
    "    word = sh.cell(row=row, column=4).value\n",
    "\t#print(type(date))\n",
    "\t# if the date is none, then break the loop\n",
    "    if word is None:\n",
    "        break\n",
    "    morphemes = dic.inserted(word).split('-')\n",
    "    \n",
    "    ws.cell(row=row, column=15, value=str(len(morphemes)))\n",
    "    \n",
    "\t\n",
    "\n",
    "wb.save('add_morphmes.xlsx')"
   ]
  },
  {
   "cell_type": "code",
   "execution_count": null,
   "metadata": {},
   "outputs": [],
   "source": []
  }
 ],
 "metadata": {
  "kernelspec": {
   "display_name": "Python 3",
   "language": "python",
   "name": "python3"
  },
  "language_info": {
   "codemirror_mode": {
    "name": "ipython",
    "version": 3
   },
   "file_extension": ".py",
   "mimetype": "text/x-python",
   "name": "python",
   "nbconvert_exporter": "python",
   "pygments_lexer": "ipython3",
   "version": "3.11.2"
  },
  "orig_nbformat": 4,
  "vscode": {
   "interpreter": {
    "hash": "2b594d7bb551ae9f1ba752759cf74fdb39b5f1fa1a82c4e669cfd20c491e4573"
   }
  }
 },
 "nbformat": 4,
 "nbformat_minor": 2
}

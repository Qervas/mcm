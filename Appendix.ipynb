{
 "cells": [
  {
   "attachments": {},
   "cell_type": "markdown",
   "metadata": {},
   "source": [
    "First, we found the all allowed words for Wordle game as a dictionary. To ensure words correctness, words from the spreadsheet compared with the dictionary repeated."
   ]
  },
  {
   "cell_type": "code",
   "execution_count": null,
   "metadata": {},
   "outputs": [],
   "source": [
    "def check_words_from_file(words_file, dictionary_file):\n",
    "    with open(words_file, 'r') as f:\n",
    "        words_list = [line.strip() for line in f.readlines()]\n",
    "\n",
    "    with open(dictionary_file, 'r') as f:\n",
    "        dictionary_words = set(f.read().split())\n",
    "\n",
    "    all_words_found = True\n",
    "\n",
    "    for i, word in enumerate(words_list):\n",
    "        if word not in dictionary_words:\n",
    "            print(f\"{word} is not found in the dictionary (index {i}).\")\n",
    "            all_words_found = False\n",
    "\n",
    "    if all_words_found:\n",
    "        print(\"All words are found in the dictionary!\")\n",
    "    else:\n",
    "        print(\"At least one word is not found in the dictionary.\")\n"
   ]
  }
 ],
 "metadata": {
  "kernelspec": {
   "display_name": "Python 3",
   "language": "python",
   "name": "python3"
  },
  "language_info": {
   "name": "python",
   "version": "3.11.1"
  },
  "orig_nbformat": 4,
  "vscode": {
   "interpreter": {
    "hash": "e7370f93d1d0cde622a1f8e1c04877d8463912d04d973331ad4851f04de6915a"
   }
  }
 },
 "nbformat": 4,
 "nbformat_minor": 2
}

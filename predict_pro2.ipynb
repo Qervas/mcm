{
 "cells": [
  {
   "cell_type": "code",
   "execution_count": 3,
   "metadata": {},
   "outputs": [
    {
     "name": "stdout",
     "output_type": "stream",
     "text": [
      "                               Contest number   Word  \\\n",
      "Date                                                   \n",
      "1970-01-01 00:00:00.000044568           202.0  slump   \n",
      "1970-01-01 00:00:00.000044569           203.0  crank   \n",
      "1970-01-01 00:00:00.000044570           204.0  gorge   \n",
      "1970-01-01 00:00:00.000044571           205.0  query   \n",
      "1970-01-01 00:00:00.000044572           206.0  drink   \n",
      "...                                       ...    ...   \n",
      "1970-01-01 00:00:00.000044923           557.0  impel   \n",
      "1970-01-01 00:00:00.000044924           558.0  havoc   \n",
      "1970-01-01 00:00:00.000044925           559.0  molar   \n",
      "1970-01-01 00:00:00.000044926           560.0  manly   \n",
      "2023-03-01 00:00:00.000000000             NaN  eerie   \n",
      "\n",
      "                               Number of  reported results  \\\n",
      "Date                                                         \n",
      "1970-01-01 00:00:00.000044568                      80630.0   \n",
      "1970-01-01 00:00:00.000044569                     101503.0   \n",
      "1970-01-01 00:00:00.000044570                      91477.0   \n",
      "1970-01-01 00:00:00.000044571                     107134.0   \n",
      "1970-01-01 00:00:00.000044572                     153880.0   \n",
      "...                                                    ...   \n",
      "1970-01-01 00:00:00.000044923                      20160.0   \n",
      "1970-01-01 00:00:00.000044924                      20001.0   \n",
      "1970-01-01 00:00:00.000044925                      21204.0   \n",
      "1970-01-01 00:00:00.000044926                      20380.0   \n",
      "2023-03-01 00:00:00.000000000                          NaN   \n",
      "\n",
      "                               Number in hard mode  1 try  2 tries  3 tries  \\\n",
      "Date                                                                          \n",
      "1970-01-01 00:00:00.000044568               1362.0    1.0      3.0     23.0   \n",
      "1970-01-01 00:00:00.000044569               1763.0    1.0      5.0     23.0   \n",
      "1970-01-01 00:00:00.000044570               1913.0    1.0      3.0     13.0   \n",
      "1970-01-01 00:00:00.000044571               2242.0    1.0      4.0     16.0   \n",
      "1970-01-01 00:00:00.000044572               3017.0    1.0      9.0     35.0   \n",
      "...                                            ...    ...      ...      ...   \n",
      "1970-01-01 00:00:00.000044923               1937.0    0.0      3.0     21.0   \n",
      "1970-01-01 00:00:00.000044924               1919.0    0.0      2.0     16.0   \n",
      "1970-01-01 00:00:00.000044925               1973.0    0.0      4.0     21.0   \n",
      "1970-01-01 00:00:00.000044926               1899.0    0.0      2.0     17.0   \n",
      "2023-03-01 00:00:00.000000000                  NaN    NaN      NaN      NaN   \n",
      "\n",
      "                               4 tries  5 tries  6 tries  7 or more tries (X)  \\\n",
      "Date                                                                            \n",
      "1970-01-01 00:00:00.000044568     39.0     24.0      9.0                  1.0   \n",
      "1970-01-01 00:00:00.000044569     31.0     24.0     14.0                  2.0   \n",
      "1970-01-01 00:00:00.000044570     27.0     30.0     22.0                  4.0   \n",
      "1970-01-01 00:00:00.000044571     30.0     30.0     17.0                  2.0   \n",
      "1970-01-01 00:00:00.000044572     34.0     16.0      5.0                  1.0   \n",
      "...                                ...      ...      ...                  ...   \n",
      "1970-01-01 00:00:00.000044923     40.0     25.0      9.0                  1.0   \n",
      "1970-01-01 00:00:00.000044924     38.0     30.0     12.0                  2.0   \n",
      "1970-01-01 00:00:00.000044925     38.0     26.0      9.0                  1.0   \n",
      "1970-01-01 00:00:00.000044926     37.0     29.0     12.0                  2.0   \n",
      "2023-03-01 00:00:00.000000000      NaN      NaN      NaN                  NaN   \n",
      "\n",
      "                                   Words  w1  w2    w3  w4    w5  \n",
      "Date                                                              \n",
      "1970-01-01 00:00:00.000044568  s,l,u,m,p  19  12  21.0  13  16.0  \n",
      "1970-01-01 00:00:00.000044569  c,r,a,n,k   3  18   1.0  14  11.0  \n",
      "1970-01-01 00:00:00.000044570  g,o,r,g,e   7  15  18.0   7   5.0  \n",
      "1970-01-01 00:00:00.000044571  q,u,e,r,y  17  21   5.0  18  25.0  \n",
      "1970-01-01 00:00:00.000044572  d,r,i,n,k   4  18   9.0  14  11.0  \n",
      "...                                  ...  ..  ..   ...  ..   ...  \n",
      "1970-01-01 00:00:00.000044923  i,m,p,e,l   9  13  16.0   5  12.0  \n",
      "1970-01-01 00:00:00.000044924  h,a,v,o,c   8   1  22.0  15   3.0  \n",
      "1970-01-01 00:00:00.000044925  m,o,l,a,r  13  15  12.0   1  18.0  \n",
      "1970-01-01 00:00:00.000044926  m,a,n,l,y  13   1  14.0  12  25.0  \n",
      "2023-03-01 00:00:00.000000000  e,e,r,i,e   5   5  18.0   9   5.0  \n",
      "\n",
      "[360 rows x 17 columns]\n"
     ]
    },
    {
     "name": "stderr",
     "output_type": "stream",
     "text": [
      "C:\\Users\\ycyit\\AppData\\Local\\Temp\\ipykernel_5988\\1471878577.py:12: FutureWarning: Columnar iteration over characters will be deprecated in future releases.\n",
      "  df['w1'], df['w2'], df['w3'], df['w4'], df['w5'] = df['Words'].str.split(',', n=4).str\n"
     ]
    }
   ],
   "source": [
    "import pandas as pd\n",
    "import numpy as np\n",
    "import matplotlib.pyplot as plt\n",
    "import seaborn as sns\n",
    "\n",
    "df = pd.read_excel('Problem_C_Data_Wordle.xlsx', header=1)\n",
    "data = df.drop(columns= 'Unnamed: 0')\n",
    "data.loc[len(data)] = ['2023-3-1', np.nan, 'eerie', np.nan, np.nan, np.nan, np.nan, np.nan, np.nan, np.nan, np.nan, np.nan]\n",
    "data['Date'] = pd.to_datetime(data['Date'])\n",
    "df = data.copy()\n",
    "df['Words'] = df['Word'].apply(lambda x:str(list(x))[1:-1].replace(\"'\", \"\").replace(\" \", \"\"))\n",
    "df['w1'], df['w2'], df['w3'], df['w4'], df['w5'] = df['Words'].str.split(',', n=4).str\n",
    "\n",
    "small = [str(chr(i)) for i in range(ord('a'), ord('z') + 1)]\n",
    "\n",
    "letter_map = dict(zip(small, range(1,27)))\n",
    "df['w1'] = df['w1'].map(letter_map)\n",
    "df['w2'] = df['w2'].map(letter_map)\n",
    "df['w3'] = df['w3'].map(letter_map) \n",
    "df['w4'] = df['w4'].map(letter_map)\n",
    "df['w5'] = df['w5'].map(letter_map)\n",
    "df.set_index('Date',inplace=True)\n",
    "df.sort_index(ascending=True,inplace=True)\n",
    "\n",
    "print(df)\n",
    "\n"
   ]
  },
  {
   "cell_type": "code",
   "execution_count": null,
   "metadata": {},
   "outputs": [],
   "source": [
    "Vowel = ['a', 'e', 'i', 'o', 'u']\n",
    "Consonant = list(set(small).difference(set(Vowel)))\n",
    "def count_Vowel(s):\n",
    "    c = 0\n",
    "    for i in range(len(s)):\n",
    "        if s[i] in Vowel:\n",
    "            c+=1\n",
    "    return c\n",
    "\n"
   ]
  }
 ],
 "metadata": {
  "kernelspec": {
   "display_name": "Python 3",
   "language": "python",
   "name": "python3"
  },
  "language_info": {
   "codemirror_mode": {
    "name": "ipython",
    "version": 3
   },
   "file_extension": ".py",
   "mimetype": "text/x-python",
   "name": "python",
   "nbconvert_exporter": "python",
   "pygments_lexer": "ipython3",
   "version": "3.11.2"
  },
  "orig_nbformat": 4,
  "vscode": {
   "interpreter": {
    "hash": "2b594d7bb551ae9f1ba752759cf74fdb39b5f1fa1a82c4e669cfd20c491e4573"
   }
  }
 },
 "nbformat": 4,
 "nbformat_minor": 2
}
